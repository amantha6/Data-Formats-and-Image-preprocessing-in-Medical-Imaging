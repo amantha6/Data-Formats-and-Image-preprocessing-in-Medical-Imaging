{
  "nbformat": 4,
  "nbformat_minor": 0,
  "metadata": {
    "colab": {
      "provenance": [],
      "authorship_tag": "ABX9TyMc+/tXEDB57RgFNBjoHHsb",
      "include_colab_link": true
    },
    "kernelspec": {
      "name": "python3",
      "display_name": "Python 3"
    },
    "language_info": {
      "name": "python"
    }
  },
  "cells": [
    {
      "cell_type": "markdown",
      "metadata": {
        "id": "view-in-github",
        "colab_type": "text"
      },
      "source": [
        "<a href=\"https://colab.research.google.com/github/amantha6/Data-Formats-and-Image-preprocessing-in-Medical-Imaging/blob/main/CS580E_Assignment_1.ipynb\" target=\"_parent\"><img src=\"https://colab.research.google.com/assets/colab-badge.svg\" alt=\"Open In Colab\"/></a>"
      ]
    },
    {
      "cell_type": "markdown",
      "source": [
        "## CS 480E/580E: Numerical Algorithms\n",
        "Due September 29th, 11:59 PM\n",
        "\n",
        "Name:Aditi Mantha \\\n",
        "BU ID: B01031049"
      ],
      "metadata": {
        "id": "ISwlYbzznbUN"
      }
    },
    {
      "cell_type": "markdown",
      "source": [
        "**1 Numerical Inversion by Binary Search [16 points]**\n",
        "\n",
        "---\n",
        "\n",
        "\n",
        "For this part, you are to write a function named invert that has two required parameters and one optional parameter d. The required parameters are another function f(x) and a y value. Your function should return the x value such that f(x) = y. The function is guaranteed to be non-decreasing, i.e., the derivative is always 0 or positive. If a 3rd argument is given, it will be a tuple (if using Python) representing an interval where the function is guaranteed to be non-decreasing. Otherwise, you may assume that the function is everywhere non-decreasing.\n",
        "\n",
        "---\n",
        "\n",
        "\n",
        "\n",
        "Make sure your function always terminates.\n",
        "\n",
        "Place your function in a separate cell.\n",
        "\n",
        "You will then apply your invert function to the two functions below."
      ],
      "metadata": {
        "id": "cUeRRFWRn9QQ"
      }
    },
    {
      "cell_type": "code",
      "source": [
        "import math\n",
        "import numpy as np\n",
        "import matplotlib.pyplot as plt\n",
        "from scipy.integrate import quad"
      ],
      "metadata": {
        "id": "JP_CdcHMrJ-_"
      },
      "execution_count": 20,
      "outputs": []
    },
    {
      "cell_type": "code",
      "source": [
        "def invert(f,y,d=None):\n",
        "  if d==None:\n",
        "    if d is None:\n",
        "        low, high = -1e2, 1e2\n",
        "  else:\n",
        "    low=d[0]\n",
        "    high=d[1]\n",
        "  tolerance=1e-10\n",
        "  x=(high+low)/2\n",
        "  while high-low>tolerance:\n",
        "    mid=(high+low)/2\n",
        "    if f(mid)>y:\n",
        "      high=mid\n",
        "    else:\n",
        "      low=mid\n",
        "    x=(high+low)/2\n",
        "  return x\n"
      ],
      "metadata": {
        "id": "s-KbdHYEn8_G"
      },
      "execution_count": 21,
      "outputs": []
    },
    {
      "cell_type": "markdown",
      "source": [
        "**Just a test function for testing the data:**"
      ],
      "metadata": {
        "id": "DNsI750s2WwQ"
      }
    },
    {
      "cell_type": "code",
      "execution_count": 22,
      "metadata": {
        "id": "vY1DnzeYbaqc",
        "colab": {
          "base_uri": "https://localhost:8080/"
        },
        "outputId": "b41d6208-6a6d-4850-98b8-ca0321f16028"
      },
      "outputs": [
        {
          "output_type": "stream",
          "name": "stdout",
          "text": [
            "1.999999999998181\n"
          ]
        }
      ],
      "source": [
        "def square(x):\n",
        "    return x**2\n",
        "\n",
        "# Use the invert function to find the square root of 4\n",
        "result = invert(f=square, y=4)\n",
        "print(result)"
      ]
    },
    {
      "cell_type": "markdown",
      "source": [
        "**1.1 Transcendental Functions [8 points]**\n",
        "\n",
        "---\n",
        "\n",
        "\n",
        "Apply your invert function to this function:\n",
        "In a separate cell, write a test to make sure that your invert routine is able to invert the function everywhere. We leave it up to you to think about how to design and implement such a test."
      ],
      "metadata": {
        "id": "HNahYIht2OoP"
      }
    },
    {
      "cell_type": "code",
      "source": [
        "def transcendental(x):\n",
        "  return x*math.exp(x)+x"
      ],
      "metadata": {
        "id": "8iYiCv8PoyXU"
      },
      "execution_count": 23,
      "outputs": []
    },
    {
      "cell_type": "code",
      "source": [
        "# Calling the function here, with y=10\n",
        "result = invert(f=transcendental, y=10)\n",
        "\n",
        "# Printing the results with labels\n",
        "print(\"The x value such that f(x) = 10 is approximately:\", result)\n",
        "print(\"Verification: The value of f(x) at this x is:\", transcendental(result))\n"
      ],
      "metadata": {
        "colab": {
          "base_uri": "https://localhost:8080/"
        },
        "id": "N1lopjK828xs",
        "outputId": "1c5917a8-828a-4d9d-af19-81c3b4bee344"
      },
      "execution_count": 24,
      "outputs": [
        {
          "output_type": "stream",
          "name": "stdout",
          "text": [
            "The x value such that f(x) = 10 is approximately: 1.6335061701738596\n",
            "Verification: The value of f(x) at this x is: 10.00000000026098\n"
          ]
        }
      ]
    },
    {
      "cell_type": "markdown",
      "source": [
        "**1.2 Gamma Function [8 points]**\n",
        "\n",
        "---\n",
        "\n",
        "\n",
        "The gamma function is component of many probability distribution functions and has a wide range of applications in probability, statistics, and physics. The gamma function is defined as an improper integral:\n",
        "In a new cell, write a test to make that your invert routine is able to invert the Gamma function in the domain\n",
        ". You may use the gamma function defined in SciPy."
      ],
      "metadata": {
        "id": "TyHRjJwd30F3"
      }
    },
    {
      "cell_type": "code",
      "source": [
        "from scipy.special import gamma\n"
      ],
      "metadata": {
        "id": "JAulFX433I9D"
      },
      "execution_count": 25,
      "outputs": []
    },
    {
      "cell_type": "code",
      "source": [
        "x_result = invert(f=gamma, y=10, d=(1.5, 16))\n",
        "\n",
        "# Printing results\n",
        "print(\"The x value that gives Gamma(x) =\", 10, \"is approximately:\", x_result)\n",
        "print(\"Verification: Gamma(\", x_result, \") =\", gamma(x_result))"
      ],
      "metadata": {
        "colab": {
          "base_uri": "https://localhost:8080/"
        },
        "id": "uArdoam94B4x",
        "outputId": "da5d5e04-e2e3-4480-fc6f-29ddced877ec"
      },
      "execution_count": 26,
      "outputs": [
        {
          "output_type": "stream",
          "name": "stdout",
          "text": [
            "The x value that gives Gamma(x) = 10 is approximately: 4.3900776508135095\n",
            "Verification: Gamma( 4.3900776508135095 ) = 9.999999999732776\n"
          ]
        }
      ]
    },
    {
      "cell_type": "markdown",
      "source": [
        "## **2 Numerical Integration [7 points]**\n",
        "\n",
        "---\n",
        "\n",
        "\n",
        "A large class of continuous functions do not have closed-form solutions for their antiderivatives. In this case, the definite integral over a range can be computed numerically. Write a function integrate that has two parameters: another function f(x) and a tuple representing the range of integration. Your function should return the definite integral of the function f(x), computed over the given range.\n",
        "\n",
        "Place your function in a separate cell."
      ],
      "metadata": {
        "id": "2uOMC9uI8-3E"
      }
    },
    {
      "cell_type": "markdown",
      "source": [
        "Reference to understand Monte Carlo Integration in Python: https://www.youtube.com/watch?v=WAf0rqwAvgg"
      ],
      "metadata": {
        "id": "vY91eJIk9CBZ"
      }
    },
    {
      "cell_type": "code",
      "source": [
        "def monte_carlo_integration(f, a, b, num_samples=10000):\n",
        "    \"\"\"\n",
        "    Approximate the integral of a function f over the range [a, b]\n",
        "    using the Monte Carlo method.\n",
        "\n",
        "    Parameters:\n",
        "    f : function - The function to integrate.\n",
        "    a : float - The lower bound of the integration interval.\n",
        "    b : float - The upper bound of the integration interval.\n",
        "    num_samples : int - The number of random samples to generate.\n",
        "\n",
        "    Returns:\n",
        "    float - The estimated integral of the function.\n",
        "    \"\"\"\n",
        "\n",
        "    x_random = np.random.uniform(low=a, high=b, size=num_samples)\n",
        "    fx_random = f(x_random)\n",
        "    average_fx = np.mean(fx_random)\n",
        "    integral_estimate = (b - a) * average_fx\n",
        "    return integral_estimate"
      ],
      "metadata": {
        "id": "244AwjwE9BnK"
      },
      "execution_count": 27,
      "outputs": []
    },
    {
      "cell_type": "markdown",
      "source": [
        "**Test Example**"
      ],
      "metadata": {
        "id": "N56M_mVf_9JC"
      }
    },
    {
      "cell_type": "code",
      "source": [
        "import numpy as np\n",
        "# Example usage: integrate the function f(x) = x over [0, 1]\n",
        "result = monte_carlo_integration(lambda x: x, 0, 1)\n",
        "print(\"Estimated integral of f(x) = x^2 from 0 to 1:\", result)"
      ],
      "metadata": {
        "colab": {
          "base_uri": "https://localhost:8080/"
        },
        "id": "vnoNZRD84ULB",
        "outputId": "e18c12c1-3915-434d-cc5a-903220995163"
      },
      "execution_count": 28,
      "outputs": [
        {
          "output_type": "stream",
          "name": "stdout",
          "text": [
            "Estimated integral of f(x) = x^2 from 0 to 1: 0.4952506467628753\n"
          ]
        }
      ]
    },
    {
      "cell_type": "markdown",
      "source": [
        "Place your function in a separate cell.\n",
        "\n",
        "\n",
        "---\n",
        "\n",
        "\n",
        "In the following cell define the function below, and compute the definite integral numerically using your integrate function.\n",
        "\n",
        "---\n",
        "\n",
        "\n",
        "\n",
        "\n",
        "You may use Monte Carlo or other sampling-based methods, as long as the program terminates in a reasonable amount of time. Your function should return the integral value with as high a precision as possible."
      ],
      "metadata": {
        "id": "ZclDfKF5_mKP"
      }
    },
    {
      "cell_type": "code",
      "source": [
        "def sin(x):\n",
        "    return  np.sin(x) / x"
      ],
      "metadata": {
        "id": "xTEEGFOt-8vw"
      },
      "execution_count": 29,
      "outputs": []
    },
    {
      "cell_type": "code",
      "source": [
        "result = monte_carlo_integration(sin, -1, 1)\n",
        "print(\"Estimated integral of sin(x) from -1 to 1 is:\", result)\n"
      ],
      "metadata": {
        "colab": {
          "base_uri": "https://localhost:8080/"
        },
        "id": "meysb9KHApsp",
        "outputId": "040cfb85-848c-42e2-955b-7e57f9cc0fe8"
      },
      "execution_count": 30,
      "outputs": [
        {
          "output_type": "stream",
          "name": "stdout",
          "text": [
            "Estimated integral of sin(x) from -1 to 1 is: 1.891893962291112\n"
          ]
        }
      ]
    },
    {
      "cell_type": "markdown",
      "source": [
        "# **3 Gradient Descent [39 points]**\n",
        "\n",
        "---\n",
        "\n",
        "\n",
        "For this part, you will write a gradient descent optimizer and use it to minimize some functions. In the below, we’ll call the function to be optimized f. Write a function opt with four parameters: a function grad(p), a tuple start giving the starting point of the optimization, the step size step, and a maximum gradient length to be used for gradient clipping. The function grad(p) should accept a point p as a tuple and returns a tuple giving the gradient of f at p.\n",
        "\n",
        "---\n",
        "\n",
        "\n",
        "\n",
        "Your function opt should return an array of tuples consisting of the sequence of points where the gradient is evaluated, starting from the start point. The last element of the returned array should be the point that minimizes f. The point may be a local mininum.\n",
        "\n",
        "---\n",
        "\n",
        "\n",
        "\n",
        "A common problem in gradient descent is that the actual change to the current point depends on the gradient. If the gradient is very large, that can cause \"overshooting\" the minimum. One technique to address this issue is \"gradient clipping\"--simply clip the gradient to some upper bound.\n",
        "\n",
        "---\n",
        "\n",
        "\n",
        "\n",
        "Note: Make sure your function always terminates.\n",
        "\n",
        "Place your function in a separate cell. You will then apply your opt function to two functions below."
      ],
      "metadata": {
        "id": "SQuYIS0xCGM6"
      }
    },
    {
      "cell_type": "code",
      "source": [
        "import numpy as np\n",
        "\n",
        "def opt(grad, start, step, max_grad_len, max_iters=1000, tol=1e-6):\n",
        "    \"\"\"\n",
        "    Gradient descent optimizer with gradient clipping.\n",
        "\n",
        "    Parameters:\n",
        "    - grad: A function that accepts a point p as a tuple and returns the gradient at that point as a tuple.\n",
        "    - start: A tuple representing the starting point of the optimization.\n",
        "    - step: Step size for each iteration.\n",
        "    - max_grad_len: Maximum gradient length for clipping.\n",
        "    - max_iters: Maximum number of iterations (default is 1000).\n",
        "    - tol: Tolerance for stopping criteria based on how small the changes in points are (default is 1e-6).\n",
        "\n",
        "    Returns:\n",
        "    - A list of tuples, where each tuple is a point in the sequence of points evaluated.\n",
        "      The last point will be the final approximation of the minimum.\n",
        "    \"\"\"\n",
        "\n",
        "    points = [start]\n",
        "    current_point = np.array(start)\n",
        "\n",
        "    for _ in range(max_iters):\n",
        "        current_grad = np.array(grad(tuple(current_point)))\n",
        "        grad_len = np.linalg.norm(current_grad)\n",
        "\n",
        "        # Gradient clipping if the gradient length exceeds the max_grad_len\n",
        "        if grad_len > max_grad_len:\n",
        "            current_grad = (current_grad / grad_len) * max_grad_len\n",
        "\n",
        "        # Update the point\n",
        "        new_point = current_point - step * current_grad\n",
        "        points.append(tuple(new_point))\n",
        "\n",
        "        # Check if the change in point is below the tolerance\n",
        "        if np.linalg.norm(new_point - current_point) < tol:\n",
        "            break\n",
        "\n",
        "        current_point = new_point\n",
        "\n",
        "    return points"
      ],
      "metadata": {
        "id": "m_KqVdooAssT"
      },
      "execution_count": 31,
      "outputs": []
    },
    {
      "cell_type": "markdown",
      "source": [
        "**3.1 Three-Hump Camel Function [15 points]**\n",
        "\n",
        "\n",
        "---\n",
        "\n",
        "\n",
        "The three-hump camel function is a two-dimensional function often used to benchmark optimization methods. It has multiple extrema. The three-hump camel function is defined as:\n",
        "\n",
        "\n",
        "---\n",
        "\n",
        "\n",
        "\n",
        "Implement the function thcf with a single tuple parameter p, giving the coordinates and to evaluate the function.\n",
        "\n",
        "\n",
        "---\n",
        "\n",
        "\n",
        "Implement the gradient function, thcf_grad that accepts a point and returns the gradient of that point, both as tuples.\n",
        "In this cell, put in code that checks using a finite differnce that your thcf_grad function is implemented correctly. It should use randomization of the point at which to check the gradient, and allow running for any number of checks. It should be as convincing as possible.\n",
        "Find the global minimum, possibly using multiple runs of your opt function. Your code should not have a hard-coded starting point.\n",
        "Generate a surface plot or contour plot of the function, showing the path of the gradient descent that found the global minimum. You can use the matplotlib library."
      ],
      "metadata": {
        "id": "nYTPf1Q-Wp7L"
      }
    },
    {
      "cell_type": "code",
      "source": [
        "\n",
        "\n",
        "def thcf(p):\n",
        "    x1, x2 = p\n",
        "    return 2 * x1**2 - 1.05 * x1**4 + (x1**6) / 6 + x1 * x2 + x2**2\n",
        "\n"
      ],
      "metadata": {
        "id": "bLAeBEMdWCXm"
      },
      "execution_count": 32,
      "outputs": []
    },
    {
      "cell_type": "markdown",
      "source": [
        "Implement the gradient function, thcf_grad that accepts a point and returns the gradient of that point, both as tuples.\n",
        "\n",
        "\n",
        "---\n",
        "\n"
      ],
      "metadata": {
        "id": "sUpVH8FhC8zN"
      }
    },
    {
      "cell_type": "code",
      "source": [
        "\n",
        "def thcf_grad(p):\n",
        "    x1, x2 = p\n",
        "    df_dx1 = 4 * x1 - 4.2 * x1**3 + x1**5 + x2\n",
        "    df_dx2 = x1 + 2 * x2\n",
        "    return (df_dx1, df_dx2)"
      ],
      "metadata": {
        "id": "-Vb_P97FWQ0J"
      },
      "execution_count": 33,
      "outputs": []
    },
    {
      "cell_type": "markdown",
      "source": [
        "In this cell, put in code that checks using a finite differnce that your thcf_grad function is implemented correctly. It should use randomization of the point at which to check the gradient, and allow running for any number of checks. It should be as convincing as possible.\n",
        "\n",
        "\n",
        "---\n",
        "\n"
      ],
      "metadata": {
        "id": "PM5wRcCnEBTZ"
      }
    },
    {
      "cell_type": "code",
      "source": [
        "\n",
        "def finite_difference(f, p, h=1e-6):\n",
        "    grad_approx = []\n",
        "    p = np.array(p)\n",
        "    for i in range(len(p)):\n",
        "        p_plus_h = np.copy(p)\n",
        "        p_plus_h[i] += h\n",
        "        grad_i = (f(p_plus_h) - f(p)) / h\n",
        "        grad_approx.append(grad_i)\n",
        "    return tuple(grad_approx)\n"
      ],
      "metadata": {
        "id": "RrrUwqqeWVlQ"
      },
      "execution_count": 34,
      "outputs": []
    },
    {
      "cell_type": "markdown",
      "source": [
        "Find the global minimum, possibly using multiple runs of your opt function. Your code should not have a hard-coded starting point.\n",
        "\n",
        "\n",
        "---\n",
        "\n"
      ],
      "metadata": {
        "id": "9oXU9m0JEHYW"
      }
    },
    {
      "cell_type": "code",
      "source": [
        "def global_minimum(f, grad_f, num_runs=10, step_size=0.01, max_grad=1.0):\n",
        "    best_min_point = None\n",
        "    best_min_value = float('inf')\n",
        "    best_path = []\n",
        "\n",
        "    for run in range(num_runs):\n",
        "        start_point = (np.random.uniform(-5, 5), np.random.uniform(-5, 5))\n",
        "        points = opt(grad_f, start_point, step_size, max_grad)\n",
        "        final_point = points[-1]\n",
        "        final_value = f(final_point)\n",
        "\n",
        "        if final_value < best_min_value:\n",
        "            best_min_point = final_point\n",
        "            best_min_value = final_value\n",
        "            best_path = points\n",
        "\n",
        "        print(f\"Run {run+1}: Final Point: {final_point}, Final Value: {final_value}\")\n",
        "\n",
        "    print(f\"\\nBest Minimum Found: Point = {best_min_point}, Value = {best_min_value}\")\n",
        "\n",
        "    if best_path:\n",
        "        plot(f, best_path)\n",
        "\n",
        "    return best_min_point, best_min_value"
      ],
      "metadata": {
        "id": "Kmjg9zFzDWXr"
      },
      "execution_count": 35,
      "outputs": []
    },
    {
      "cell_type": "markdown",
      "source": [
        "Generate a surface plot or contour plot of the function, showing the path of the gradient descent that found the global minimum. You can use the matplotlib library.\n",
        "\n",
        "\n",
        "---\n",
        "\n"
      ],
      "metadata": {
        "id": "HRivonVdEu0q"
      }
    },
    {
      "cell_type": "code",
      "source": [
        "\n"
      ],
      "metadata": {
        "id": "T0-8Kn_iEdsY"
      },
      "execution_count": 35,
      "outputs": []
    },
    {
      "cell_type": "markdown",
      "source": [
        "**3.2 2-D Shubert Function [24 points]**\n",
        "\n",
        "---\n",
        "\n",
        "\n",
        "The Shubert function is an N-dimensional function also often used to benchmark optimization methods. It also has many local and global minima that are irregularly distributed in the domain. The 2-D Shubert function is defined as:\n",
        "\n",
        "For this part, you should implement the following, each in a separate cell:\n",
        "\n",
        "\n",
        "---\n",
        "\n",
        "\n",
        "\n",
        "Implement the function sf with a single tuple parameter p, giving the coordinates\n",
        " and\n",
        " to evaluate the function."
      ],
      "metadata": {
        "id": "KR96LGqxICPN"
      }
    },
    {
      "cell_type": "code",
      "source": [
        "def sf(p):\n",
        "    x1, x2 = p\n",
        "    sum1 = sum(i * np.cos((i + 1) * x1 + i) for i in range(1, 6))\n",
        "    sum2 = sum(i * np.cos((i + 1) * x2 + i) for i in range(1, 6))\n",
        "    return sum1 * sum2"
      ],
      "metadata": {
        "id": "24w_QtWfE1hZ"
      },
      "execution_count": 36,
      "outputs": []
    },
    {
      "cell_type": "markdown",
      "source": [
        "Implement the gradient function, sf_grad that accepts a point and returns the gradient of that point, both as tuples.\n",
        "\n",
        "\n",
        "---\n",
        "\n"
      ],
      "metadata": {
        "id": "0AdotldgIasJ"
      }
    },
    {
      "cell_type": "code",
      "source": [
        "def sf_grad(p):\n",
        "    x1, x2 = p\n",
        "    sum1_x1 = sum(i * np.cos((i + 1) * x1 + i) for i in range(1, 6))\n",
        "    sum2_x2 = sum(i * np.cos((i + 1) * x2 + i) for i in range(1, 6))\n",
        "    d_sum1_dx1 = sum(-i * (i + 1) * np.sin((i + 1) * x1 + i) for i in range(1, 6))\n",
        "    d_sum2_dx2 = sum(-i * (i + 1) * np.sin((i + 1) * x2 + i) for i in range(1, 6))\n",
        "    df_dx1 = d_sum1_dx1 * sum2_x2\n",
        "    df_dx2 = sum1_x1 * d_sum2_dx2\n",
        "    return (df_dx1, df_dx2)\n",
        "test_point = (1, 2)\n",
        "gradient = sf_grad(test_point)\n",
        "print(f\"Gradient of Shubert function at {test_point}: {gradient}\")"
      ],
      "metadata": {
        "colab": {
          "base_uri": "https://localhost:8080/"
        },
        "id": "HkIn8yaaILTT",
        "outputId": "069e280e-db1e-4e45-e597-8b633df91d97"
      },
      "execution_count": 37,
      "outputs": [
        {
          "output_type": "stream",
          "name": "stdout",
          "text": [
            "Gradient of Shubert function at (1, 2): (-15.919391708451052, -30.33727410135966)\n"
          ]
        }
      ]
    },
    {
      "cell_type": "markdown",
      "source": [
        "In this cell, put in code that checks using a finite differnce that your sf_grad function is implemented correctly. It should use randomization of the point at which to check the gradient, and allow running for any number of checks. It should be as convincing as possible.\n",
        "\n",
        "\n",
        "---\n",
        "\n"
      ],
      "metadata": {
        "id": "rruWEOsvI1gw"
      }
    },
    {
      "cell_type": "code",
      "source": [
        "def finite_difference_grad(f, p, h=1e-6):\n",
        "    grad_approx = []\n",
        "    p = np.array(p)\n",
        "    for i in range(len(p)):\n",
        "        p_plus_h = np.copy(p)\n",
        "        p_plus_h[i] += h\n",
        "        grad_i = (f(p_plus_h) - f(p)) / h\n",
        "        grad_approx.append(grad_i)\n",
        "    return tuple(grad_approx)"
      ],
      "metadata": {
        "id": "GF23AgMhIkWy"
      },
      "execution_count": 38,
      "outputs": []
    },
    {
      "cell_type": "markdown",
      "source": [
        "Find the global minimum, possibly using multiple runs of your opt function. Your code should not have a hard-coded starting point.\n",
        "\n",
        "\n",
        "---\n",
        "\n"
      ],
      "metadata": {
        "id": "T00rXWeQ_50O"
      }
    },
    {
      "cell_type": "code",
      "source": [
        "def global_minimum(f, grad_f, num_runs=10, step_size=0.01, max_grad=1.0):\n",
        "    best_min_point = None\n",
        "    best_min_value = float('inf')\n",
        "    best_path = []\n",
        "\n",
        "    for run in range(num_runs):\n",
        "        start_point = (np.random.uniform(-10, 10), np.random.uniform(-10, 10))\n",
        "        points = opt(grad_f, start_point, step_size, max_grad)\n",
        "        final_point = points[-1]\n",
        "        final_value = f(final_point)\n",
        "        if final_value < best_min_value:\n",
        "            best_min_point = final_point\n",
        "            best_min_value = final_value\n",
        "            best_path = points\n",
        "        print(f\"Run {run+1}: Final Point: {final_point}, Final Value: {final_value}\")\n",
        "    print(f\"\\nBest Minimum Found: Point = {best_min_point}, Value = {best_min_value}\")\n",
        "\n",
        "    return best_min_point, best_min_value, best_path\n",
        "best_point, best_value, best_path = global_minimum(sf, sf_grad, num_runs=10)"
      ],
      "metadata": {
        "colab": {
          "base_uri": "https://localhost:8080/"
        },
        "id": "LnlNIa97JGOE",
        "outputId": "77e0956c-fcce-4288-9de5-5a82acbf28b4"
      },
      "execution_count": 39,
      "outputs": [
        {
          "output_type": "stream",
          "name": "stdout",
          "text": [
            "Run 1: Final Point: (3.766823052969763, -3.0031585862219714), Final Value: -12.955957014453448\n",
            "Run 2: Final Point: (-9.786135930886685, -9.286343893401561), Final Value: -9.531811522351623\n",
            "Run 3: Final Point: (-0.8003211004719731, -2.5168913042467755), Final Value: -52.00763334079623\n",
            "Run 4: Final Point: (-7.708313735499347, -2.999454175345084), Final Value: -46.499425356134864\n",
            "Run 5: Final Point: (-4.963181056421861, 2.78302093240726), Final Value: -7.726397696427087\n",
            "Run 6: Final Point: (8.589980034837291, -1.425128428319761), Final Value: -37.61398190817295\n",
            "Run 7: Final Point: (-8.290388011562388, -2.502537516066494), Final Value: -22.10028407886201\n",
            "Run 8: Final Point: (-5.461401381421619, 1.325703508457563), Final Value: -10.971012611954\n",
            "Run 9: Final Point: (-2.503811971799098, 4.275982602796778), Final Value: -22.110216390455747\n",
            "Run 10: Final Point: (-4.474050941843339, 8.582414165008702), Final Value: -7.9814074007189815\n",
            "\n",
            "Best Minimum Found: Point = (-0.8003211004719731, -2.5168913042467755), Value = -52.00763334079623\n"
          ]
        }
      ]
    },
    {
      "cell_type": "markdown",
      "source": [
        "## 4 Random Variates [38 points]\n",
        "\n",
        "\n",
        "---\n",
        "\n",
        "\n",
        "### 4.1 Rejection Sampling [15 points]\n",
        "\n",
        "\n",
        "---\n",
        "\n",
        "\n",
        "The function\n",
        " could be used to define a PDF, over the domain 0 to\n",
        ". However, one of the properties of any PDF is that it must integrate to one. This can generally be met by normalization: simply integrating function over the domain, and dividing it by the value of the definite integral to obtain the actual PDF.\n",
        "\n",
        "\n",
        "---\n",
        "\n",
        "\n",
        "\n",
        "For this part, you must:\n",
        "\n",
        "First, correct the candidate PDF\n",
        " by normalizing it. Put how you did this in a Markdown cell. You may use tools such as Mathematica if you wish, but explain how you did it.\n",
        "Then, in another cell, write a function named pdf_sin2(n) that generates n variates according to the PDF, and returns them in a list. Use rejection sampling. You can use a simple uniform distribution as your proposal distribution. If you wish, you may also use a proposal distribution that more closely envelopes (bounds) the target distribution. A different point must be generated each time it is called, but it is okay if the same sequence is generated. (No need to seed.)\n",
        "\n",
        "\n",
        "---\n",
        "\n",
        "\n",
        "Lastly, in a third cell, convince us that you have done it correctly. You should not try to prove it mathematically, but rather do something like generate a histogram of samples from your pdf_sin2 function, and plot it against the actual PDF."
      ],
      "metadata": {
        "id": "k9Rt14JYBB1l"
      }
    },
    {
      "cell_type": "markdown",
      "source": [
        "## Step 1: Normalization"
      ],
      "metadata": {
        "id": "AAJE1pztBiYt"
      }
    },
    {
      "cell_type": "code",
      "source": [
        "def sin_squared(x):\n",
        "    return (np.sin(x**2))**2\n",
        "integral_estimate = monte_carlo_integration(sin_squared, 0, np.pi, 100000)\n",
        "print(\"Estimated integral using Monte Carlo:\", integral_estimate)"
      ],
      "metadata": {
        "id": "agHHkOisJkH5",
        "colab": {
          "base_uri": "https://localhost:8080/"
        },
        "outputId": "f6d41cdf-bab8-46cb-8231-cc77005dbe23"
      },
      "execution_count": 51,
      "outputs": [
        {
          "output_type": "stream",
          "name": "stdout",
          "text": [
            "Estimated integral using Monte Carlo: 1.3259160124965708\n"
          ]
        }
      ]
    },
    {
      "cell_type": "code",
      "source": [
        "def pdf_sin2(x):\n",
        "    return sin_squared(x) / integral_estimate"
      ],
      "metadata": {
        "id": "B-2k6UJ3B7r8"
      },
      "execution_count": 52,
      "outputs": []
    },
    {
      "cell_type": "markdown",
      "source": [
        "## Step 2: Rejection Sampling"
      ],
      "metadata": {
        "id": "F7L5-6V7By_0"
      }
    },
    {
      "cell_type": "code",
      "source": [
        "def rejection_sampling(pdf, domain, n_samples, scale):\n",
        "    samples = []\n",
        "    while len(samples) < n_samples:\n",
        "        x_proposal = np.random.uniform(domain[0], domain[1])\n",
        "        y_proposal = np.random.uniform(0, scale)\n",
        "        if y_proposal < pdf(x_proposal):\n",
        "            samples.append(x_proposal)\n",
        "    return samples\n",
        "x_vals = np.linspace(0, np.pi, 1000)\n",
        "scale = 1.2 * max([pdf_sin2(x) for x in x_vals])\n",
        "samples = rejection_sampling(pdf_sin2, (0, np.pi), 10000, scale)"
      ],
      "metadata": {
        "id": "xs0_Uxg7Bw3j"
      },
      "execution_count": 53,
      "outputs": []
    },
    {
      "cell_type": "markdown",
      "source": [
        "## Step 3: Visualization"
      ],
      "metadata": {
        "id": "Gd4hnhxPCG8c"
      }
    },
    {
      "cell_type": "code",
      "source": [
        "# y_vals = [pdf_sin2(x) for x in x_vals]\n",
        "\n",
        "# plt.figure(figsize=(10, 6))\n",
        "# plt.hist(samples, bins=30, density=True, alpha=0.5, label='Sampled Data')\n",
        "# plt.plot(x_vals, y_vals, 'r-', label='Actual Normalized $\\\\sin^2(x^2)$')\n",
        "# plt.title('Monte Carlo Samples vs. Actual Normalized PDF')\n",
        "# plt.xlabel('x')\n",
        "# plt.ylabel('PDF')\n",
        "# plt.legend()\n",
        "# plt.show()"
      ],
      "metadata": {
        "id": "gnz4ZpVOCCuY"
      },
      "execution_count": 56,
      "outputs": []
    },
    {
      "cell_type": "code",
      "source": [],
      "metadata": {
        "colab": {
          "base_uri": "https://localhost:8080/",
          "height": 555
        },
        "id": "9ayOKP-HCOlY",
        "outputId": "5a7e2c6a-c382-4ac5-abb4-b225bee77891"
      },
      "execution_count": 55,
      "outputs": [
        {
          "output_type": "display_data",
          "data": {
            "text/plain": [
              "<Figure size 1000x600 with 1 Axes>"
            ],
            "image/png": "[encoded data removed]"
          },
          "metadata": {}
        }
      ]
    },
    {
      "cell_type": "code",
      "source": [],
      "metadata": {
        "id": "mAcTdP5gD_h6"
      },
      "execution_count": null,
      "outputs": []
    }
  ]
}