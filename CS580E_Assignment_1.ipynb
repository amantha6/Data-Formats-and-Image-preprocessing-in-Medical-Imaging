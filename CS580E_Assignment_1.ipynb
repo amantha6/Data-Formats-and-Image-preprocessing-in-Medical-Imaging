{
  "nbformat": 4,
  "nbformat_minor": 0,
  "metadata": {
    "colab": {
      "provenance": [],
      "authorship_tag": "ABX9TyMvPVaGdjb6KAr7If6oL1Ak",
      "include_colab_link": true
    },
    "kernelspec": {
      "name": "python3",
      "display_name": "Python 3"
    },
    "language_info": {
      "name": "python"
    }
  },
  "cells": [
    {
      "cell_type": "markdown",
      "metadata": {
        "id": "view-in-github",
        "colab_type": "text"
      },
      "source": [
        "<a href=\"https://colab.research.google.com/github/amantha6/Data-Formats-and-Image-preprocessing-in-Medical-Imaging/blob/main/CS580E_Assignment_1.ipynb\" target=\"_parent\"><img src=\"https://colab.research.google.com/assets/colab-badge.svg\" alt=\"Open In Colab\"/></a>"
      ]
    },
    {
      "cell_type": "markdown",
      "source": [
        "## CS 480E/580E: Numerical Algorithms\n",
        "Due September 29th, 11:59 PM\n",
        "\n",
        "Name:Aditi Mantha \\\n",
        "BU ID: B01031049"
      ],
      "metadata": {
        "id": "ISwlYbzznbUN"
      }
    },
    {
      "cell_type": "markdown",
      "source": [
        "**1 Numerical Inversion by Binary Search [16 points]**\n",
        "\n",
        "---\n",
        "\n",
        "\n",
        "For this part, you are to write a function named invert that has two required parameters and one optional parameter d. The required parameters are another function f(x) and a y value. Your function should return the x value such that f(x) = y. The function is guaranteed to be non-decreasing, i.e., the derivative is always 0 or positive. If a 3rd argument is given, it will be a tuple (if using Python) representing an interval where the function is guaranteed to be non-decreasing. Otherwise, you may assume that the function is everywhere non-decreasing.\n",
        "\n",
        "---\n",
        "\n",
        "\n",
        "\n",
        "Make sure your function always terminates.\n",
        "\n",
        "Place your function in a separate cell.\n",
        "\n",
        "You will then apply your invert function to the two functions below."
      ],
      "metadata": {
        "id": "cUeRRFWRn9QQ"
      }
    },
    {
      "cell_type": "code",
      "source": [
        "import math"
      ],
      "metadata": {
        "id": "JP_CdcHMrJ-_"
      },
      "execution_count": 16,
      "outputs": []
    },
    {
      "cell_type": "code",
      "source": [
        "def invert(f,y,d=None):\n",
        "  if d==None:\n",
        "    if d is None:\n",
        "        low, high = -1e2, 1e2\n",
        "  else:\n",
        "    low=d[0]\n",
        "    high=d[1]\n",
        "  tolerance=1e-10\n",
        "  x=(high+low)/2\n",
        "  while high-low>tolerance:\n",
        "    mid=(high+low)/2\n",
        "    if f(mid)>y:\n",
        "      high=mid\n",
        "    else:\n",
        "      low=mid\n",
        "    x=(high+low)/2\n",
        "  return x\n",
        ""
      ],
      "metadata": {
        "id": "s-KbdHYEn8_G"
      },
      "execution_count": 26,
      "outputs": []
    },
    {
      "cell_type": "markdown",
      "source": [
        "**Just a test function for testing the data:**"
      ],
      "metadata": {
        "id": "DNsI750s2WwQ"
      }
    },
    {
      "cell_type": "code",
      "execution_count": 27,
      "metadata": {
        "id": "vY1DnzeYbaqc",
        "colab": {
          "base_uri": "https://localhost:8080/"
        },
        "outputId": "16eacefd-b106-4707-beef-69d489e9b56a"
      },
      "outputs": [
        {
          "output_type": "stream",
          "name": "stdout",
          "text": [
            "1.999999999998181\n"
          ]
        }
      ],
      "source": [
        "def square(x):\n",
        "    return x**2\n",
        "\n",
        "# Use the invert function to find the square root of 4\n",
        "result = invert(f=square, y=4)\n",
        "print(result)"
      ]
    },
    {
      "cell_type": "markdown",
      "source": [
        "**1.1 Transcendental Functions [8 points]**\n",
        "\n",
        "---\n",
        "\n",
        "\n",
        "Apply your invert function to this function:\n",
        "In a separate cell, write a test to make sure that your invert routine is able to invert the function everywhere. We leave it up to you to think about how to design and implement such a test."
      ],
      "metadata": {
        "id": "HNahYIht2OoP"
      }
    },
    {
      "cell_type": "code",
      "source": [
        "def transcendental(x):\n",
        "  return x*math.exp(x)+x"
      ],
      "metadata": {
        "id": "8iYiCv8PoyXU"
      },
      "execution_count": 28,
      "outputs": []
    },
    {
      "cell_type": "code",
      "source": [
        "# Calling the function here, with y=10\n",
        "result = invert(f=transcendental, y=10)\n",
        "\n",
        "# Printing the results with labels\n",
        "print(\"The x value such that f(x) = 10 is approximately:\", result)\n",
        "print(\"Verification: The value of f(x) at this x is:\", transcendental(result))\n"
      ],
      "metadata": {
        "colab": {
          "base_uri": "https://localhost:8080/"
        },
        "id": "N1lopjK828xs",
        "outputId": "f69148e1-864d-434c-edd2-4455a1a3d252"
      },
      "execution_count": 31,
      "outputs": [
        {
          "output_type": "stream",
          "name": "stdout",
          "text": [
            "The x value such that f(x) = 10 is approximately: 1.6335061701738596\n",
            "Verification: The value of f(x) at this x is: 10.00000000026098\n"
          ]
        }
      ]
    },
    {
      "cell_type": "code",
      "source": [],
      "metadata": {
        "id": "JAulFX433I9D"
      },
      "execution_count": null,
      "outputs": []
    }
  ]
}